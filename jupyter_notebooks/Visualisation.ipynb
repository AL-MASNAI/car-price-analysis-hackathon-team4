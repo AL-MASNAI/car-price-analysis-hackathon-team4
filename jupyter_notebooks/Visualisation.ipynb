{
  "cells": [
    {
      "cell_type": "markdown",
      "metadata": {
        "id": "0aStgWSO0E0E"
      },
      "source": [
        "# **Exploratory Data Analysis**"
      ]
    },
    {
      "cell_type": "markdown",
      "metadata": {
        "id": "1eLEkw5O0ECa"
      },
      "source": [
        "## Objectives\n",
        "\n",
        "* Conduct broad analysis on cleaned dataset and create initial visualisations\n",
        "\n",
        "## Inputs\n",
        "\n",
        "* This notebook will use the cars_processed.csv dataset\n",
        "\n",
        "## Outputs\n",
        "\n",
        "* I plan to generate a diverse set of initial visualisations\n"
      ]
    },
    {
      "cell_type": "markdown",
      "metadata": {
        "id": "9uWZXH9LwoQg"
      },
      "source": [
        "---"
      ]
    },
    {
      "cell_type": "markdown",
      "metadata": {
        "id": "cqP-UeN-z3i2"
      },
      "source": [
        "# Change working directory"
      ]
    },
    {
      "cell_type": "markdown",
      "metadata": {},
      "source": [
        "* We are assuming you will store the notebooks in a subfolder, therefore when running the notebook in the editor, you will need to change the working directory"
      ]
    },
    {
      "cell_type": "markdown",
      "metadata": {
        "id": "aOGIGS-uz3i2"
      },
      "source": [
        "We need to change the working directory from its current folder to its parent folder\n",
        "* We access the current directory with os.getcwd()"
      ]
    },
    {
      "cell_type": "code",
      "execution_count": 1,
      "metadata": {
        "id": "wZfF_j-Bz3i4",
        "outputId": "66943449-1436-4c3d-85c7-b85f9f78349b"
      },
      "outputs": [
        {
          "data": {
            "text/plain": [
              "'c:\\\\Users\\\\jackr\\\\OneDrive\\\\Desktop\\\\my_projects\\\\Hackathon-1\\\\car-price-analysis-hackathon-team4\\\\jupyter_notebooks'"
            ]
          },
          "execution_count": 1,
          "metadata": {},
          "output_type": "execute_result"
        }
      ],
      "source": [
        "import os\n",
        "current_dir = os.getcwd()\n",
        "current_dir"
      ]
    },
    {
      "cell_type": "markdown",
      "metadata": {
        "id": "9MWW8E7lz3i7"
      },
      "source": [
        "We want to make the parent of the current directory the new current directory\n",
        "* os.path.dirname() gets the parent directory\n",
        "* os.chir() defines the new current directory"
      ]
    },
    {
      "cell_type": "code",
      "execution_count": 2,
      "metadata": {
        "id": "TwHsQRWjz3i9",
        "outputId": "86849db3-cd2f-4cc5-ebb8-2d0caafa1a2c"
      },
      "outputs": [
        {
          "name": "stdout",
          "output_type": "stream",
          "text": [
            "You set a new current directory\n"
          ]
        }
      ],
      "source": [
        "os.chdir(os.path.dirname(current_dir))\n",
        "print(\"You set a new current directory\")"
      ]
    },
    {
      "cell_type": "markdown",
      "metadata": {
        "id": "M_xPk_Ijz3i-"
      },
      "source": [
        "Confirm the new current directory"
      ]
    },
    {
      "cell_type": "code",
      "execution_count": 3,
      "metadata": {
        "id": "vz3S-_kjz3jA",
        "outputId": "00b79ae4-75d0-4a96-d193-ac9ef9847ea2"
      },
      "outputs": [
        {
          "data": {
            "text/plain": [
              "'c:\\\\Users\\\\jackr\\\\OneDrive\\\\Desktop\\\\my_projects\\\\Hackathon-1\\\\car-price-analysis-hackathon-team4'"
            ]
          },
          "execution_count": 3,
          "metadata": {},
          "output_type": "execute_result"
        }
      ],
      "source": [
        "current_dir = os.getcwd()\n",
        "current_dir"
      ]
    },
    {
      "cell_type": "code",
      "execution_count": 4,
      "metadata": {},
      "outputs": [],
      "source": [
        "import pandas as pd\n",
        "import numpy as np\n",
        "import matplotlib.pyplot as plt \n",
        "import seaborn as sns\n",
        "import plotly.express as px\n"
      ]
    },
    {
      "cell_type": "code",
      "execution_count": 5,
      "metadata": {},
      "outputs": [
        {
          "data": {
            "text/html": [
              "<div>\n",
              "<style scoped>\n",
              "    .dataframe tbody tr th:only-of-type {\n",
              "        vertical-align: middle;\n",
              "    }\n",
              "\n",
              "    .dataframe tbody tr th {\n",
              "        vertical-align: top;\n",
              "    }\n",
              "\n",
              "    .dataframe thead th {\n",
              "        text-align: right;\n",
              "    }\n",
              "</style>\n",
              "<table border=\"1\" class=\"dataframe\">\n",
              "  <thead>\n",
              "    <tr style=\"text-align: right;\">\n",
              "      <th></th>\n",
              "      <th>car_ID</th>\n",
              "      <th>brand</th>\n",
              "      <th>model</th>\n",
              "      <th>symboling</th>\n",
              "      <th>fueltype</th>\n",
              "      <th>aspiration</th>\n",
              "      <th>doornumber</th>\n",
              "      <th>carbody</th>\n",
              "      <th>drivewheel</th>\n",
              "      <th>enginelocation</th>\n",
              "      <th>...</th>\n",
              "      <th>power_to_weight</th>\n",
              "      <th>car_volume</th>\n",
              "      <th>mpg_ratio</th>\n",
              "      <th>is_luxury</th>\n",
              "      <th>city_score</th>\n",
              "      <th>outdoor_score</th>\n",
              "      <th>sport_score</th>\n",
              "      <th>city_score_normalized</th>\n",
              "      <th>outdoor_score_normalized</th>\n",
              "      <th>sport_score_normalized</th>\n",
              "    </tr>\n",
              "  </thead>\n",
              "  <tbody>\n",
              "    <tr>\n",
              "      <th>0</th>\n",
              "      <td>1</td>\n",
              "      <td>alfa-romeo</td>\n",
              "      <td>giulia</td>\n",
              "      <td>3</td>\n",
              "      <td>gas</td>\n",
              "      <td>standard</td>\n",
              "      <td>2</td>\n",
              "      <td>convertible</td>\n",
              "      <td>Rear Wheel Drive</td>\n",
              "      <td>front</td>\n",
              "      <td>...</td>\n",
              "      <td>0.043564</td>\n",
              "      <td>528019.904</td>\n",
              "      <td>0.777778</td>\n",
              "      <td>0</td>\n",
              "      <td>3.420573</td>\n",
              "      <td>2.224953</td>\n",
              "      <td>2.636124</td>\n",
              "      <td>0.060223</td>\n",
              "      <td>0.156132</td>\n",
              "      <td>0.209142</td>\n",
              "    </tr>\n",
              "    <tr>\n",
              "      <th>1</th>\n",
              "      <td>2</td>\n",
              "      <td>alfa-romeo</td>\n",
              "      <td>stelvio</td>\n",
              "      <td>3</td>\n",
              "      <td>gas</td>\n",
              "      <td>standard</td>\n",
              "      <td>2</td>\n",
              "      <td>convertible</td>\n",
              "      <td>Rear Wheel Drive</td>\n",
              "      <td>front</td>\n",
              "      <td>...</td>\n",
              "      <td>0.043564</td>\n",
              "      <td>528019.904</td>\n",
              "      <td>0.777778</td>\n",
              "      <td>0</td>\n",
              "      <td>3.420573</td>\n",
              "      <td>2.224953</td>\n",
              "      <td>2.636124</td>\n",
              "      <td>0.060223</td>\n",
              "      <td>0.156132</td>\n",
              "      <td>0.209142</td>\n",
              "    </tr>\n",
              "    <tr>\n",
              "      <th>2</th>\n",
              "      <td>3</td>\n",
              "      <td>alfa-romeo</td>\n",
              "      <td>quadrifoglio</td>\n",
              "      <td>1</td>\n",
              "      <td>gas</td>\n",
              "      <td>standard</td>\n",
              "      <td>2</td>\n",
              "      <td>hatchback</td>\n",
              "      <td>Rear Wheel Drive</td>\n",
              "      <td>front</td>\n",
              "      <td>...</td>\n",
              "      <td>0.054552</td>\n",
              "      <td>587592.640</td>\n",
              "      <td>0.730769</td>\n",
              "      <td>0</td>\n",
              "      <td>3.701659</td>\n",
              "      <td>2.925203</td>\n",
              "      <td>3.443046</td>\n",
              "      <td>0.119526</td>\n",
              "      <td>0.328387</td>\n",
              "      <td>0.370500</td>\n",
              "    </tr>\n",
              "    <tr>\n",
              "      <th>3</th>\n",
              "      <td>4</td>\n",
              "      <td>audi</td>\n",
              "      <td>100ls</td>\n",
              "      <td>2</td>\n",
              "      <td>gas</td>\n",
              "      <td>standard</td>\n",
              "      <td>4</td>\n",
              "      <td>sedan</td>\n",
              "      <td>Front Wheel Drive</td>\n",
              "      <td>front</td>\n",
              "      <td>...</td>\n",
              "      <td>0.043646</td>\n",
              "      <td>634816.956</td>\n",
              "      <td>0.800000</td>\n",
              "      <td>0</td>\n",
              "      <td>5.705352</td>\n",
              "      <td>3.694203</td>\n",
              "      <td>4.023528</td>\n",
              "      <td>0.542260</td>\n",
              "      <td>0.517553</td>\n",
              "      <td>0.486578</td>\n",
              "    </tr>\n",
              "    <tr>\n",
              "      <th>4</th>\n",
              "      <td>5</td>\n",
              "      <td>audi</td>\n",
              "      <td>100ls</td>\n",
              "      <td>2</td>\n",
              "      <td>gas</td>\n",
              "      <td>standard</td>\n",
              "      <td>4</td>\n",
              "      <td>sedan</td>\n",
              "      <td>Four Wheel Drive</td>\n",
              "      <td>front</td>\n",
              "      <td>...</td>\n",
              "      <td>0.040722</td>\n",
              "      <td>636734.832</td>\n",
              "      <td>0.818182</td>\n",
              "      <td>1</td>\n",
              "      <td>5.573226</td>\n",
              "      <td>3.894204</td>\n",
              "      <td>4.412435</td>\n",
              "      <td>0.514384</td>\n",
              "      <td>0.566752</td>\n",
              "      <td>0.564347</td>\n",
              "    </tr>\n",
              "  </tbody>\n",
              "</table>\n",
              "<p>5 rows × 37 columns</p>\n",
              "</div>"
            ],
            "text/plain": [
              "   car_ID       brand         model  symboling fueltype aspiration  \\\n",
              "0       1  alfa-romeo        giulia          3      gas   standard   \n",
              "1       2  alfa-romeo       stelvio          3      gas   standard   \n",
              "2       3  alfa-romeo  quadrifoglio          1      gas   standard   \n",
              "3       4        audi         100ls          2      gas   standard   \n",
              "4       5        audi         100ls          2      gas   standard   \n",
              "\n",
              "   doornumber      carbody         drivewheel enginelocation  ...  \\\n",
              "0           2  convertible   Rear Wheel Drive          front  ...   \n",
              "1           2  convertible   Rear Wheel Drive          front  ...   \n",
              "2           2    hatchback   Rear Wheel Drive          front  ...   \n",
              "3           4        sedan  Front Wheel Drive          front  ...   \n",
              "4           4        sedan   Four Wheel Drive          front  ...   \n",
              "\n",
              "   power_to_weight  car_volume  mpg_ratio  is_luxury  city_score  \\\n",
              "0         0.043564  528019.904   0.777778          0    3.420573   \n",
              "1         0.043564  528019.904   0.777778          0    3.420573   \n",
              "2         0.054552  587592.640   0.730769          0    3.701659   \n",
              "3         0.043646  634816.956   0.800000          0    5.705352   \n",
              "4         0.040722  636734.832   0.818182          1    5.573226   \n",
              "\n",
              "  outdoor_score  sport_score  city_score_normalized outdoor_score_normalized  \\\n",
              "0      2.224953     2.636124               0.060223                 0.156132   \n",
              "1      2.224953     2.636124               0.060223                 0.156132   \n",
              "2      2.925203     3.443046               0.119526                 0.328387   \n",
              "3      3.694203     4.023528               0.542260                 0.517553   \n",
              "4      3.894204     4.412435               0.514384                 0.566752   \n",
              "\n",
              "   sport_score_normalized  \n",
              "0                0.209142  \n",
              "1                0.209142  \n",
              "2                0.370500  \n",
              "3                0.486578  \n",
              "4                0.564347  \n",
              "\n",
              "[5 rows x 37 columns]"
            ]
          },
          "execution_count": 5,
          "metadata": {},
          "output_type": "execute_result"
        }
      ],
      "source": [
        "cars_df = pd.read_csv('Data/clean/cars_processed.csv')\n",
        "cars_df.head()\n"
      ]
    },
    {
      "cell_type": "code",
      "execution_count": 6,
      "metadata": {},
      "outputs": [
        {
          "data": {
            "image/png": "[encoded data removed]",
            "text/plain": [
              "<Figure size 1250x1250 with 30 Axes>"
            ]
          },
          "metadata": {},
          "output_type": "display_data"
        }
      ],
      "source": [
        " # seaborn pairplot for price, enginesize, horsepower, highwaympg, citympg\n",
        "sns.pairplot(\n",
        "    cars_df[['price', 'enginesize', 'horsepower', 'highwaympg', 'citympg']],\n",
        "    diag_kind='hist',\n",
        "    plot_kws={'color': 'green'},\n",
        "    diag_kws={'color': 'black'}\n",
        ")\n",
        "plt.suptitle('Pairplot of Key Numeric Values', y=1.02) \n",
        "plt.show()                                  "
      ]
    },
    {
      "cell_type": "markdown",
      "metadata": {},
      "source": [
        "# The pairplot above provides several insights:\n",
        "- There is a positive correlation between engine size, horsepower, and price, indicating that cars with larger engines and more horsepower tend to be more expensive.\n",
        "- Highway and city MPG are negatively correlated with engine size and horsepower, suggesting that more powerful cars are less fuel efficient.\n",
        "- The relationships between these variables appear mostly linear, with some outliers present.\n",
        "- The distribution of price is right-skewed, with most cars clustered at lower price points and a few high-priced outliers."
      ]
    },
    {
      "cell_type": "code",
      "execution_count": 7,
      "metadata": {},
      "outputs": [
        {
          "data": {
            "image/png": "[encoded data removed]",
            "text/plain": [
              "<Figure size 1000x600 with 1 Axes>"
            ]
          },
          "metadata": {},
          "output_type": "display_data"
        }
      ],
      "source": [
        "# seaborn regplot for enginesize vs price\n",
        "plt.figure(figsize=(10, 6))\n",
        "sns.regplot(\n",
        "    x='enginesize', \n",
        "    y='price', \n",
        "    data=cars_df, \n",
        "    scatter_kws={'color': 'green'}, \n",
        "    line_kws={'color': 'black'}\n",
        ")\n",
        "plt.title('Engine Size vs Price', fontsize=16)\n",
        "plt.xlabel('Engine Size', fontsize=14)\n",
        "plt.ylabel('Price', fontsize=14)\n",
        "plt.grid(True)\n",
        "plt.show()"
      ]
    },
    {
      "cell_type": "markdown",
      "metadata": {
        "vscode": {
          "languageId": "markdown"
        }
      },
      "source": [
        "# Additional insights from the price vs engine size regplot:\n",
        "1. The regplot provides a clearer visualization of the linear relationship between engine size and price, highlighting the strength and direction of the correlation.\n",
        "2. The regression line allows us to observe the overall trend and estimate how much price increases per unit increase in engine size.\n",
        "3. Outliers are more easily identified, showing cars with unusually high or low prices for their engine size.\n",
        "4. The spread of data points around the regression line gives a sense of variability and potential heteroscedasticity (variance changes with engine size).\n",
        "5. The regplot can reveal if there are clusters or gaps in the data, indicating possible segmentation in the market (e.g., economy vs luxury cars)."
      ]
    },
    {
      "cell_type": "code",
      "execution_count": 8,
      "metadata": {},
      "outputs": [
        {
          "data": {
            "application/vnd.plotly.v1+json": {
              "config": {
                "plotlyServerURL": "https://plot.ly"
              },
              "data": [
                {
                  "alignmentgroup": "True",
                  "hovertemplate": "drivewheel=Rear Wheel Drive<br>carbody=%{x}<br>price=%{y}<extra></extra>",
                  "legendgroup": "Rear Wheel Drive",
                  "marker": {
                    "color": "rgb(0,68,27)"
                  },
                  "name": "Rear Wheel Drive",
                  "notched": false,
                  "offsetgroup": "Rear Wheel Drive",
                  "orientation": "v",
                  "showlegend": true,
                  "type": "box",
                  "x": [
                    "convertible",
                    "convertible",
                    "hatchback",
                    "sedan",
                    "sedan",
                    "sedan",
                    "sedan",
                    "sedan",
                    "sedan",
                    "sedan",
                    "sedan",
                    "sedan",
                    "hatchback",
                    "sedan",
                    "sedan",
                    "sedan",
                    "hatchback",
                    "hatchback",
                    "hatchback",
                    "hatchback",
                    "sedan",
                    "sedan",
                    "sedan",
                    "wagon",
                    "hardtop",
                    "sedan",
                    "sedan",
                    "convertible",
                    "sedan",
                    "hardtop",
                    "hatchback",
                    "hatchback",
                    "hatchback",
                    "hatchback",
                    "sedan",
                    "sedan",
                    "wagon",
                    "wagon",
                    "sedan",
                    "sedan",
                    "wagon",
                    "wagon",
                    "sedan",
                    "sedan",
                    "sedan",
                    "hatchback",
                    "hatchback",
                    "hardtop",
                    "hardtop",
                    "convertible",
                    "hatchback",
                    "sedan",
                    "hatchback",
                    "sedan",
                    "hatchback",
                    "hardtop",
                    "hardtop",
                    "hatchback",
                    "hardtop",
                    "hatchback",
                    "convertible",
                    "hatchback",
                    "hatchback",
                    "sedan",
                    "wagon",
                    "sedan",
                    "wagon",
                    "sedan",
                    "wagon",
                    "sedan",
                    "wagon",
                    "sedan",
                    "sedan",
                    "sedan",
                    "sedan",
                    "sedan"
                  ],
                  "x0": " ",
                  "xaxis": "x",
                  "y": [
                    13495,
                    16500,
                    16500,
                    16430,
                    16925,
                    20970,
                    21105,
                    24565,
                    30760,
                    41315,
                    36880,
                    6785,
                    11048,
                    32250,
                    35550,
                    36000,
                    10945,
                    11845,
                    13645,
                    15645,
                    18280,
                    18344,
                    25552,
                    28248,
                    28176,
                    31600,
                    34184,
                    35056,
                    40960,
                    45400,
                    16503,
                    17199,
                    19699,
                    18399,
                    11900,
                    13200,
                    12440,
                    13860,
                    15580,
                    16900,
                    16695,
                    17075,
                    16630,
                    17950,
                    18150,
                    12764,
                    22018,
                    32528,
                    34028,
                    37028,
                    31400,
                    8058,
                    8238,
                    9298,
                    9538,
                    8449,
                    9639,
                    9989,
                    11199,
                    11549,
                    17669,
                    16558,
                    15998,
                    15690,
                    15750,
                    12940,
                    13415,
                    15985,
                    16515,
                    18420,
                    18950,
                    16845,
                    19045,
                    21485,
                    22470,
                    22625
                  ],
                  "y0": " ",
                  "yaxis": "y"
                },
                {
                  "alignmentgroup": "True",
                  "hovertemplate": "drivewheel=Front Wheel Drive<br>carbody=%{x}<br>price=%{y}<extra></extra>",
                  "legendgroup": "Front Wheel Drive",
                  "marker": {
                    "color": "rgb(0,109,44)"
                  },
                  "name": "Front Wheel Drive",
                  "notched": false,
                  "offsetgroup": "Front Wheel Drive",
                  "orientation": "v",
                  "showlegend": true,
                  "type": "box",
                  "x": [
                    "sedan",
                    "sedan",
                    "sedan",
                    "wagon",
                    "sedan",
                    "hatchback",
                    "hatchback",
                    "sedan",
                    "hatchback",
                    "hatchback",
                    "hatchback",
                    "hatchback",
                    "sedan",
                    "sedan",
                    "sedan",
                    "wagon",
                    "hatchback",
                    "hatchback",
                    "hatchback",
                    "hatchback",
                    "hatchback",
                    "hatchback",
                    "sedan",
                    "wagon",
                    "hatchback",
                    "hatchback",
                    "sedan",
                    "sedan",
                    "sedan",
                    "sedan",
                    "sedan",
                    "sedan",
                    "hatchback",
                    "hatchback",
                    "hatchback",
                    "sedan",
                    "sedan",
                    "hatchback",
                    "sedan",
                    "hatchback",
                    "sedan",
                    "sedan",
                    "hatchback",
                    "hatchback",
                    "hatchback",
                    "hatchback",
                    "hatchback",
                    "hatchback",
                    "hatchback",
                    "hatchback",
                    "hatchback",
                    "hatchback",
                    "sedan",
                    "sedan",
                    "sedan",
                    "sedan",
                    "sedan",
                    "sedan",
                    "sedan",
                    "sedan",
                    "wagon",
                    "sedan",
                    "hatchback",
                    "sedan",
                    "wagon",
                    "hardtop",
                    "hatchback",
                    "sedan",
                    "sedan",
                    "wagon",
                    "sedan",
                    "hatchback",
                    "hatchback",
                    "hatchback",
                    "sedan",
                    "sedan",
                    "wagon",
                    "wagon",
                    "hatchback",
                    "hatchback",
                    "sedan",
                    "hatchback",
                    "sedan",
                    "hatchback",
                    "sedan",
                    "hatchback",
                    "hatchback",
                    "sedan",
                    "sedan",
                    "sedan",
                    "wagon",
                    "wagon",
                    "hatchback",
                    "hatchback",
                    "hatchback",
                    "wagon",
                    "sedan",
                    "hatchback",
                    "sedan",
                    "hatchback",
                    "sedan",
                    "hatchback",
                    "sedan",
                    "sedan",
                    "sedan",
                    "hatchback",
                    "sedan",
                    "hatchback",
                    "sedan",
                    "sedan",
                    "sedan",
                    "sedan",
                    "sedan",
                    "sedan",
                    "sedan",
                    "convertible",
                    "hatchback",
                    "sedan",
                    "sedan",
                    "wagon"
                  ],
                  "x0": " ",
                  "xaxis": "x",
                  "y": [
                    13950,
                    15250,
                    17710,
                    18920,
                    23875,
                    5151,
                    6295,
                    6575,
                    5572,
                    6377,
                    7957,
                    6229,
                    6692,
                    7609,
                    8558,
                    8921,
                    12964,
                    6479,
                    6855,
                    5399,
                    6529,
                    7129,
                    7295,
                    7295,
                    7895,
                    9095,
                    8845,
                    10295,
                    12945,
                    10345,
                    8916,
                    8916,
                    5195,
                    6095,
                    6795,
                    6695,
                    7395,
                    8845,
                    8495,
                    10595,
                    10245,
                    10795,
                    11245,
                    5389,
                    6189,
                    6669,
                    7689,
                    9959,
                    8499,
                    12629,
                    14869,
                    14489,
                    6989,
                    8189,
                    9279,
                    9279,
                    5499,
                    7099,
                    6649,
                    6849,
                    7349,
                    7299,
                    7799,
                    7499,
                    7999,
                    8249,
                    8949,
                    9549,
                    13499,
                    14399,
                    13499,
                    5572,
                    7957,
                    6229,
                    6692,
                    7609,
                    8921,
                    9295,
                    9895,
                    11850,
                    12170,
                    15040,
                    15510,
                    18150,
                    18620,
                    5118,
                    7053,
                    7126,
                    7775,
                    9960,
                    7463,
                    10198,
                    5348,
                    6338,
                    6488,
                    6918,
                    6938,
                    7198,
                    7898,
                    7788,
                    7738,
                    8358,
                    9258,
                    8948,
                    10698,
                    9988,
                    10898,
                    11248,
                    7775,
                    7975,
                    7995,
                    8195,
                    8495,
                    9495,
                    9995,
                    11595,
                    9980,
                    13295,
                    13845,
                    12290
                  ],
                  "y0": " ",
                  "yaxis": "y"
                },
                {
                  "alignmentgroup": "True",
                  "hovertemplate": "drivewheel=Four Wheel Drive<br>carbody=%{x}<br>price=%{y}<extra></extra>",
                  "legendgroup": "Four Wheel Drive",
                  "marker": {
                    "color": "rgb(35,139,69)"
                  },
                  "name": "Four Wheel Drive",
                  "notched": false,
                  "offsetgroup": "Four Wheel Drive",
                  "orientation": "v",
                  "showlegend": true,
                  "type": "box",
                  "x": [
                    "sedan",
                    "hatchback",
                    "hatchback",
                    "sedan",
                    "sedan",
                    "wagon",
                    "wagon",
                    "wagon",
                    "wagon"
                  ],
                  "x0": " ",
                  "xaxis": "x",
                  "y": [
                    17450,
                    17859,
                    7603,
                    9233,
                    11259,
                    8013,
                    11694,
                    7898,
                    8778
                  ],
                  "y0": " ",
                  "yaxis": "y"
                }
              ],
              "layout": {
                "boxmode": "group",
                "legend": {
                  "title": {
                    "text": "drivewheel"
                  },
                  "tracegroupgap": 0
                },
                "template": {
                  "data": {
                    "bar": [
                      {
                        "error_x": {
                          "color": "#f2f5fa"
                        },
                        "error_y": {
                          "color": "#f2f5fa"
                        },
                        "marker": {
                          "line": {
                            "color": "rgb(17,17,17)",
                            "width": 0.5
                          },
                          "pattern": {
                            "fillmode": "overlay",
                            "size": 10,
                            "solidity": 0.2
                          }
                        },
                        "type": "bar"
                      }
                    ],
                    "barpolar": [
                      {
                        "marker": {
                          "line": {
                            "color": "rgb(17,17,17)",
                            "width": 0.5
                          },
                          "pattern": {
                            "fillmode": "overlay",
                            "size": 10,
                            "solidity": 0.2
                          }
                        },
                        "type": "barpolar"
                      }
                    ],
                    "carpet": [
                      {
                        "aaxis": {
                          "endlinecolor": "#A2B1C6",
                          "gridcolor": "#506784",
                          "linecolor": "#506784",
                          "minorgridcolor": "#506784",
                          "startlinecolor": "#A2B1C6"
                        },
                        "baxis": {
                          "endlinecolor": "#A2B1C6",
                          "gridcolor": "#506784",
                          "linecolor": "#506784",
                          "minorgridcolor": "#506784",
                          "startlinecolor": "#A2B1C6"
                        },
                        "type": "carpet"
                      }
                    ],
                    "choropleth": [
                      {
                        "colorbar": {
                          "outlinewidth": 0,
                          "ticks": ""
                        },
                        "type": "choropleth"
                      }
                    ],
                    "contour": [
                      {
                        "colorbar": {
                          "outlinewidth": 0,
                          "ticks": ""
                        },
                        "colorscale": [
                          [
                            0,
                            "#0d0887"
                          ],
                          [
                            0.1111111111111111,
                            "#46039f"
                          ],
                          [
                            0.2222222222222222,
                            "#7201a8"
                          ],
                          [
                            0.3333333333333333,
                            "#9c179e"
                          ],
                          [
                            0.4444444444444444,
                            "#bd3786"
                          ],
                          [
                            0.5555555555555556,
                            "#d8576b"
                          ],
                          [
                            0.6666666666666666,
                            "#ed7953"
                          ],
                          [
                            0.7777777777777778,
                            "#fb9f3a"
                          ],
                          [
                            0.8888888888888888,
                            "#fdca26"
                          ],
                          [
                            1,
                            "#f0f921"
                          ]
                        ],
                        "type": "contour"
                      }
                    ],
                    "contourcarpet": [
                      {
                        "colorbar": {
                          "outlinewidth": 0,
                          "ticks": ""
                        },
                        "type": "contourcarpet"
                      }
                    ],
                    "heatmap": [
                      {
                        "colorbar": {
                          "outlinewidth": 0,
                          "ticks": ""
                        },
                        "colorscale": [
                          [
                            0,
                            "#0d0887"
                          ],
                          [
                            0.1111111111111111,
                            "#46039f"
                          ],
                          [
                            0.2222222222222222,
                            "#7201a8"
                          ],
                          [
                            0.3333333333333333,
                            "#9c179e"
                          ],
                          [
                            0.4444444444444444,
                            "#bd3786"
                          ],
                          [
                            0.5555555555555556,
                            "#d8576b"
                          ],
                          [
                            0.6666666666666666,
                            "#ed7953"
                          ],
                          [
                            0.7777777777777778,
                            "#fb9f3a"
                          ],
                          [
                            0.8888888888888888,
                            "#fdca26"
                          ],
                          [
                            1,
                            "#f0f921"
                          ]
                        ],
                        "type": "heatmap"
                      }
                    ],
                    "heatmapgl": [
                      {
                        "colorbar": {
                          "outlinewidth": 0,
                          "ticks": ""
                        },
                        "colorscale": [
                          [
                            0,
                            "#0d0887"
                          ],
                          [
                            0.1111111111111111,
                            "#46039f"
                          ],
                          [
                            0.2222222222222222,
                            "#7201a8"
                          ],
                          [
                            0.3333333333333333,
                            "#9c179e"
                          ],
                          [
                            0.4444444444444444,
                            "#bd3786"
                          ],
                          [
                            0.5555555555555556,
                            "#d8576b"
                          ],
                          [
                            0.6666666666666666,
                            "#ed7953"
                          ],
                          [
                            0.7777777777777778,
                            "#fb9f3a"
                          ],
                          [
                            0.8888888888888888,
                            "#fdca26"
                          ],
                          [
                            1,
                            "#f0f921"
                          ]
                        ],
                        "type": "heatmapgl"
                      }
                    ],
                    "histogram": [
                      {
                        "marker": {
                          "pattern": {
                            "fillmode": "overlay",
                            "size": 10,
                            "solidity": 0.2
                          }
                        },
                        "type": "histogram"
                      }
                    ],
                    "histogram2d": [
                      {
                        "colorbar": {
                          "outlinewidth": 0,
                          "ticks": ""
                        },
                        "colorscale": [
                          [
                            0,
                            "#0d0887"
                          ],
                          [
                            0.1111111111111111,
                            "#46039f"
                          ],
                          [
                            0.2222222222222222,
                            "#7201a8"
                          ],
                          [
                            0.3333333333333333,
                            "#9c179e"
                          ],
                          [
                            0.4444444444444444,
                            "#bd3786"
                          ],
                          [
                            0.5555555555555556,
                            "#d8576b"
                          ],
                          [
                            0.6666666666666666,
                            "#ed7953"
                          ],
                          [
                            0.7777777777777778,
                            "#fb9f3a"
                          ],
                          [
                            0.8888888888888888,
                            "#fdca26"
                          ],
                          [
                            1,
                            "#f0f921"
                          ]
                        ],
                        "type": "histogram2d"
                      }
                    ],
                    "histogram2dcontour": [
                      {
                        "colorbar": {
                          "outlinewidth": 0,
                          "ticks": ""
                        },
                        "colorscale": [
                          [
                            0,
                            "#0d0887"
                          ],
                          [
                            0.1111111111111111,
                            "#46039f"
                          ],
                          [
                            0.2222222222222222,
                            "#7201a8"
                          ],
                          [
                            0.3333333333333333,
                            "#9c179e"
                          ],
                          [
                            0.4444444444444444,
                            "#bd3786"
                          ],
                          [
                            0.5555555555555556,
                            "#d8576b"
                          ],
                          [
                            0.6666666666666666,
                            "#ed7953"
                          ],
                          [
                            0.7777777777777778,
                            "#fb9f3a"
                          ],
                          [
                            0.8888888888888888,
                            "#fdca26"
                          ],
                          [
                            1,
                            "#f0f921"
                          ]
                        ],
                        "type": "histogram2dcontour"
                      }
                    ],
                    "mesh3d": [
                      {
                        "colorbar": {
                          "outlinewidth": 0,
                          "ticks": ""
                        },
                        "type": "mesh3d"
                      }
                    ],
                    "parcoords": [
                      {
                        "line": {
                          "colorbar": {
                            "outlinewidth": 0,
                            "ticks": ""
                          }
                        },
                        "type": "parcoords"
                      }
                    ],
                    "pie": [
                      {
                        "automargin": true,
                        "type": "pie"
                      }
                    ],
                    "scatter": [
                      {
                        "marker": {
                          "line": {
                            "color": "#283442"
                          }
                        },
                        "type": "scatter"
                      }
                    ],
                    "scatter3d": [
                      {
                        "line": {
                          "colorbar": {
                            "outlinewidth": 0,
                            "ticks": ""
                          }
                        },
                        "marker": {
                          "colorbar": {
                            "outlinewidth": 0,
                            "ticks": ""
                          }
                        },
                        "type": "scatter3d"
                      }
                    ],
                    "scattercarpet": [
                      {
                        "marker": {
                          "colorbar": {
                            "outlinewidth": 0,
                            "ticks": ""
                          }
                        },
                        "type": "scattercarpet"
                      }
                    ],
                    "scattergeo": [
                      {
                        "marker": {
                          "colorbar": {
                            "outlinewidth": 0,
                            "ticks": ""
                          }
                        },
                        "type": "scattergeo"
                      }
                    ],
                    "scattergl": [
                      {
                        "marker": {
                          "line": {
                            "color": "#283442"
                          }
                        },
                        "type": "scattergl"
                      }
                    ],
                    "scattermapbox": [
                      {
                        "marker": {
                          "colorbar": {
                            "outlinewidth": 0,
                            "ticks": ""
                          }
                        },
                        "type": "scattermapbox"
                      }
                    ],
                    "scatterpolar": [
                      {
                        "marker": {
                          "colorbar": {
                            "outlinewidth": 0,
                            "ticks": ""
                          }
                        },
                        "type": "scatterpolar"
                      }
                    ],
                    "scatterpolargl": [
                      {
                        "marker": {
                          "colorbar": {
                            "outlinewidth": 0,
                            "ticks": ""
                          }
                        },
                        "type": "scatterpolargl"
                      }
                    ],
                    "scatterternary": [
                      {
                        "marker": {
                          "colorbar": {
                            "outlinewidth": 0,
                            "ticks": ""
                          }
                        },
                        "type": "scatterternary"
                      }
                    ],
                    "surface": [
                      {
                        "colorbar": {
                          "outlinewidth": 0,
                          "ticks": ""
                        },
                        "colorscale": [
                          [
                            0,
                            "#0d0887"
                          ],
                          [
                            0.1111111111111111,
                            "#46039f"
                          ],
                          [
                            0.2222222222222222,
                            "#7201a8"
                          ],
                          [
                            0.3333333333333333,
                            "#9c179e"
                          ],
                          [
                            0.4444444444444444,
                            "#bd3786"
                          ],
                          [
                            0.5555555555555556,
                            "#d8576b"
                          ],
                          [
                            0.6666666666666666,
                            "#ed7953"
                          ],
                          [
                            0.7777777777777778,
                            "#fb9f3a"
                          ],
                          [
                            0.8888888888888888,
                            "#fdca26"
                          ],
                          [
                            1,
                            "#f0f921"
                          ]
                        ],
                        "type": "surface"
                      }
                    ],
                    "table": [
                      {
                        "cells": {
                          "fill": {
                            "color": "#506784"
                          },
                          "line": {
                            "color": "rgb(17,17,17)"
                          }
                        },
                        "header": {
                          "fill": {
                            "color": "#2a3f5f"
                          },
                          "line": {
                            "color": "rgb(17,17,17)"
                          }
                        },
                        "type": "table"
                      }
                    ]
                  },
                  "layout": {
                    "annotationdefaults": {
                      "arrowcolor": "#f2f5fa",
                      "arrowhead": 0,
                      "arrowwidth": 1
                    },
                    "autotypenumbers": "strict",
                    "coloraxis": {
                      "colorbar": {
                        "outlinewidth": 0,
                        "ticks": ""
                      }
                    },
                    "colorscale": {
                      "diverging": [
                        [
                          0,
                          "#8e0152"
                        ],
                        [
                          0.1,
                          "#c51b7d"
                        ],
                        [
                          0.2,
                          "#de77ae"
                        ],
                        [
                          0.3,
                          "#f1b6da"
                        ],
                        [
                          0.4,
                          "#fde0ef"
                        ],
                        [
                          0.5,
                          "#f7f7f7"
                        ],
                        [
                          0.6,
                          "#e6f5d0"
                        ],
                        [
                          0.7,
                          "#b8e186"
                        ],
                        [
                          0.8,
                          "#7fbc41"
                        ],
                        [
                          0.9,
                          "#4d9221"
                        ],
                        [
                          1,
                          "#276419"
                        ]
                      ],
                      "sequential": [
                        [
                          0,
                          "#0d0887"
                        ],
                        [
                          0.1111111111111111,
                          "#46039f"
                        ],
                        [
                          0.2222222222222222,
                          "#7201a8"
                        ],
                        [
                          0.3333333333333333,
                          "#9c179e"
                        ],
                        [
                          0.4444444444444444,
                          "#bd3786"
                        ],
                        [
                          0.5555555555555556,
                          "#d8576b"
                        ],
                        [
                          0.6666666666666666,
                          "#ed7953"
                        ],
                        [
                          0.7777777777777778,
                          "#fb9f3a"
                        ],
                        [
                          0.8888888888888888,
                          "#fdca26"
                        ],
                        [
                          1,
                          "#f0f921"
                        ]
                      ],
                      "sequentialminus": [
                        [
                          0,
                          "#0d0887"
                        ],
                        [
                          0.1111111111111111,
                          "#46039f"
                        ],
                        [
                          0.2222222222222222,
                          "#7201a8"
                        ],
                        [
                          0.3333333333333333,
                          "#9c179e"
                        ],
                        [
                          0.4444444444444444,
                          "#bd3786"
                        ],
                        [
                          0.5555555555555556,
                          "#d8576b"
                        ],
                        [
                          0.6666666666666666,
                          "#ed7953"
                        ],
                        [
                          0.7777777777777778,
                          "#fb9f3a"
                        ],
                        [
                          0.8888888888888888,
                          "#fdca26"
                        ],
                        [
                          1,
                          "#f0f921"
                        ]
                      ]
                    },
                    "colorway": [
                      "#636efa",
                      "#EF553B",
                      "#00cc96",
                      "#ab63fa",
                      "#FFA15A",
                      "#19d3f3",
                      "#FF6692",
                      "#B6E880",
                      "#FF97FF",
                      "#FECB52"
                    ],
                    "font": {
                      "color": "#f2f5fa"
                    },
                    "geo": {
                      "bgcolor": "rgb(17,17,17)",
                      "lakecolor": "rgb(17,17,17)",
                      "landcolor": "rgb(17,17,17)",
                      "showlakes": true,
                      "showland": true,
                      "subunitcolor": "#506784"
                    },
                    "hoverlabel": {
                      "align": "left"
                    },
                    "hovermode": "closest",
                    "mapbox": {
                      "style": "dark"
                    },
                    "paper_bgcolor": "rgb(17,17,17)",
                    "plot_bgcolor": "rgb(17,17,17)",
                    "polar": {
                      "angularaxis": {
                        "gridcolor": "#506784",
                        "linecolor": "#506784",
                        "ticks": ""
                      },
                      "bgcolor": "rgb(17,17,17)",
                      "radialaxis": {
                        "gridcolor": "#506784",
                        "linecolor": "#506784",
                        "ticks": ""
                      }
                    },
                    "scene": {
                      "xaxis": {
                        "backgroundcolor": "rgb(17,17,17)",
                        "gridcolor": "#506784",
                        "gridwidth": 2,
                        "linecolor": "#506784",
                        "showbackground": true,
                        "ticks": "",
                        "zerolinecolor": "#C8D4E3"
                      },
                      "yaxis": {
                        "backgroundcolor": "rgb(17,17,17)",
                        "gridcolor": "#506784",
                        "gridwidth": 2,
                        "linecolor": "#506784",
                        "showbackground": true,
                        "ticks": "",
                        "zerolinecolor": "#C8D4E3"
                      },
                      "zaxis": {
                        "backgroundcolor": "rgb(17,17,17)",
                        "gridcolor": "#506784",
                        "gridwidth": 2,
                        "linecolor": "#506784",
                        "showbackground": true,
                        "ticks": "",
                        "zerolinecolor": "#C8D4E3"
                      }
                    },
                    "shapedefaults": {
                      "line": {
                        "color": "#f2f5fa"
                      }
                    },
                    "sliderdefaults": {
                      "bgcolor": "#C8D4E3",
                      "bordercolor": "rgb(17,17,17)",
                      "borderwidth": 1,
                      "tickwidth": 0
                    },
                    "ternary": {
                      "aaxis": {
                        "gridcolor": "#506784",
                        "linecolor": "#506784",
                        "ticks": ""
                      },
                      "baxis": {
                        "gridcolor": "#506784",
                        "linecolor": "#506784",
                        "ticks": ""
                      },
                      "bgcolor": "rgb(17,17,17)",
                      "caxis": {
                        "gridcolor": "#506784",
                        "linecolor": "#506784",
                        "ticks": ""
                      }
                    },
                    "title": {
                      "x": 0.05
                    },
                    "updatemenudefaults": {
                      "bgcolor": "#506784",
                      "borderwidth": 0
                    },
                    "xaxis": {
                      "automargin": true,
                      "gridcolor": "#283442",
                      "linecolor": "#506784",
                      "ticks": "",
                      "title": {
                        "standoff": 15
                      },
                      "zerolinecolor": "#283442",
                      "zerolinewidth": 2
                    },
                    "yaxis": {
                      "automargin": true,
                      "gridcolor": "#283442",
                      "linecolor": "#506784",
                      "ticks": "",
                      "title": {
                        "standoff": 15
                      },
                      "zerolinecolor": "#283442",
                      "zerolinewidth": 2
                    }
                  }
                },
                "title": {
                  "text": "Price Distribution by Car Body and Drive Wheels"
                },
                "xaxis": {
                  "anchor": "y",
                  "domain": [
                    0,
                    1
                  ],
                  "title": {
                    "text": "carbody"
                  }
                },
                "yaxis": {
                  "anchor": "x",
                  "domain": [
                    0,
                    1
                  ],
                  "title": {
                    "text": "price"
                  }
                }
              }
            }
          },
          "metadata": {},
          "output_type": "display_data"
        }
      ],
      "source": [
        "# plotly box plot for price by carbody and drivewheel\n",
        "fig = px.box(\n",
        "    cars_df, \n",
        "    x='carbody', \n",
        "    y='price', \n",
        "    color='drivewheel',\n",
        "    title='Price Distribution by Car Body and Drive Wheels',\n",
        "    color_discrete_sequence=px.colors.sequential.Greens_r\n",
        ")\n",
        "fig.update_layout(template='plotly_dark')\n",
        "fig.show()\n"
      ]
    },
    {
      "cell_type": "markdown",
      "metadata": {},
      "source": [
        "# Insights from Boxplot\n",
        "- Hatchbacks have tightly grouped prices, indicating low price variability.\n",
        "- Other car bodies (sedans, convertibles) show wider price ranges and more outliers.\n",
        "- Hatchbacks are likely more standardized or budget-friendly.\n",
        "- Greater price variability in other types suggests more market diversity."
      ]
    },
    {
      "cell_type": "markdown",
      "metadata": {
        "id": "ZY3l0-AxO93d"
      },
      "source": [
        "---"
      ]
    },
    {
      "cell_type": "markdown",
      "metadata": {
        "id": "uFQo3ycuO-v6"
      },
      "source": [
        "# Section 2"
      ]
    },
    {
      "cell_type": "markdown",
      "metadata": {},
      "source": [
        "Section 2 content"
      ]
    },
    {
      "cell_type": "code",
      "execution_count": null,
      "metadata": {},
      "outputs": [],
      "source": []
    },
    {
      "cell_type": "markdown",
      "metadata": {},
      "source": [
        "---"
      ]
    },
    {
      "cell_type": "markdown",
      "metadata": {},
      "source": [
        "NOTE"
      ]
    },
    {
      "cell_type": "markdown",
      "metadata": {},
      "source": [
        "* You may add as many sections as you want, as long as it supports your project workflow.\n",
        "* All notebook's cells should be run top-down (you can't create a dynamic wherein a given point you need to go back to a previous cell to execute some task, like go back to a previous cell and refresh a variable content)"
      ]
    },
    {
      "cell_type": "markdown",
      "metadata": {},
      "source": [
        "---"
      ]
    },
    {
      "cell_type": "markdown",
      "metadata": {
        "id": "ltNetd085qHf"
      },
      "source": [
        "# Push files to Repo"
      ]
    },
    {
      "cell_type": "markdown",
      "metadata": {},
      "source": [
        "* In cases where you don't need to push files to Repo, you may replace this section with \"Conclusions and Next Steps\" and state your conclusions and next steps."
      ]
    },
    {
      "cell_type": "code",
      "execution_count": null,
      "metadata": {
        "id": "aKlnIozA4eQO",
        "outputId": "fd09bc1f-adb1-4511-f6ce-492a6af570c0"
      },
      "outputs": [],
      "source": [
        "import os\n",
        "try:\n",
        "  # create your folder here\n",
        "  # os.makedirs(name='')\n",
        "except Exception as e:\n",
        "  print(e)\n"
      ]
    }
  ],
  "metadata": {
    "accelerator": "GPU",
    "colab": {
      "name": "Data Practitioner Jupyter Notebook.ipynb",
      "provenance": [],
      "toc_visible": true
    },
    "kernelspec": {
      "display_name": ".venv (3.12.8)",
      "language": "python",
      "name": "python3"
    },
    "language_info": {
      "codemirror_mode": {
        "name": "ipython",
        "version": 3
      },
      "file_extension": ".py",
      "mimetype": "text/x-python",
      "name": "python",
      "nbconvert_exporter": "python",
      "pygments_lexer": "ipython3",
      "version": "3.12.8"
    },
    "orig_nbformat": 2
  },
  "nbformat": 4,
  "nbformat_minor": 2
}
